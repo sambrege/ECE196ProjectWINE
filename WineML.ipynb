{
 "cells": [
  {
   "cell_type": "code",
   "execution_count": 1,
   "metadata": {},
   "outputs": [],
   "source": [
    "import numpy as np\n",
    "import pandas as pd\n",
    "import matplotlib.pyplot as plt\n",
    "import seaborn as sns\n",
    "from sklearn.model_selection import train_test_split\n",
    "from sklearn.ensemble import RandomForestClassifier"
   ]
  },
  {
   "cell_type": "code",
   "execution_count": 2,
   "metadata": {},
   "outputs": [
    {
     "name": "stdout",
     "output_type": "stream",
     "text": [
      "Random Forest CLassifier accuracy: 1470 / 1470\n"
     ]
    }
   ],
   "source": [
    "#Goal is to predict quality of wine from rest of data with a\n",
    "#Random Forest Classifier\n",
    "\n",
    "#read in data\n",
    "whiteData = pd.read_csv(\"winequality-white.csv\", sep=';')\n",
    "redData = pd.read_csv(\"winequality-red.csv\", sep=';')\n",
    "\n",
    "#seperate target from data\n",
    "Yw = whiteData['quality']\n",
    "Xw = whiteData.loc[:,'fixed acidity':'alcohol']\n",
    "\n",
    "Yr = redData['quality']\n",
    "Xr = redData.loc[:,'fixed acidity':'alcohol']\n",
    "\n",
    "#Set up train and test data\n",
    "Xw_train, Xw_test, Yw_train, Yw_test = train_test_split(Xw, Yw, test_size=0.3, random_state=42)\n",
    "Xr_train, Xr_test, Yr_train, Yr_test = train_test_split(Xr, Yr, test_size=0.3, random_state=42)\n",
    "\n",
    "attributes = whiteData.columns[:11]\n",
    "\n",
    "#Setting up classifier\n",
    "clfW = RandomForestClassifier(n_jobs=2, random_state=0)\n",
    "clfW.fit(Xw_train[attributes], Yw_train)\n",
    "Wpreds = clfW.predict(Xw_test[attributes])\n",
    "\n",
    "#Measuring accuracy\n",
    "counter = 0\n",
    "correct = 0\n",
    "for pred in Wpreds:\n",
    "    if Wpreds[counter] == Yw_test.values[counter]:\n",
    "        correct += 1\n",
    "print('Random Forest CLassifier accuracy:', correct, '/', len(Yw_test.values))\n"
   ]
  }
 ],
 "metadata": {
  "kernelspec": {
   "display_name": "Python 3",
   "language": "python",
   "name": "python3"
  },
  "language_info": {
   "codemirror_mode": {
    "name": "ipython",
    "version": 3
   },
   "file_extension": ".py",
   "mimetype": "text/x-python",
   "name": "python",
   "nbconvert_exporter": "python",
   "pygments_lexer": "ipython3",
   "version": "3.6.6+"
  }
 },
 "nbformat": 4,
 "nbformat_minor": 2
}
